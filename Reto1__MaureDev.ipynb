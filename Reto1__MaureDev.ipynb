{
  "nbformat": 4,
  "nbformat_minor": 0,
  "metadata": {
    "colab": {
      "provenance": [],
      "authorship_tag": "ABX9TyOHWhRhJmaeJDqq7mKh3SqO",
      "include_colab_link": true
    },
    "kernelspec": {
      "name": "python3",
      "display_name": "Python 3"
    },
    "language_info": {
      "name": "python"
    }
  },
  "cells": [
    {
      "cell_type": "markdown",
      "metadata": {
        "id": "view-in-github",
        "colab_type": "text"
      },
      "source": [
        "<a href=\"https://colab.research.google.com/github/Diannov402/HelloPython/blob/Retos_MaureDev/Reto1__MaureDev.ipynb\" target=\"_parent\"><img src=\"https://colab.research.google.com/assets/colab-badge.svg\" alt=\"Open In Colab\"/></a>"
      ]
    },
    {
      "cell_type": "code",
      "execution_count": 126,
      "metadata": {
        "colab": {
          "base_uri": "https://localhost:8080/"
        },
        "id": "Q1divkfmfk4w",
        "outputId": "b74f4890-10b5-4ce5-99e2-eb197f38fbe8"
      },
      "outputs": [
        {
          "output_type": "stream",
          "name": "stdout",
          "text": [
            "1\n",
            " \n",
            "2\n",
            " \n",
            "Frizz\n",
            " \n",
            "4\n",
            " \n",
            "Buzz\n",
            " \n",
            "Frizz\n",
            " \n",
            "7\n",
            " \n",
            "8\n",
            " \n",
            "Frizz\n",
            " \n",
            "Buzz\n",
            " \n",
            "11\n",
            " \n",
            "Frizz\n",
            " \n",
            "13\n",
            " \n",
            "14\n",
            " \n",
            "FrizzBuzz\n",
            " \n",
            "16\n",
            " \n",
            "17\n",
            " \n",
            "Frizz\n",
            " \n",
            "19\n",
            " \n",
            "Buzz\n",
            " \n",
            "Frizz\n",
            " \n",
            "22\n",
            " \n",
            "23\n",
            " \n",
            "Frizz\n",
            " \n",
            "Buzz\n",
            " \n",
            "26\n",
            " \n",
            "Frizz\n",
            " \n",
            "28\n",
            " \n",
            "29\n",
            " \n",
            "FrizzBuzz\n",
            " \n",
            "31\n",
            " \n",
            "32\n",
            " \n",
            "Frizz\n",
            " \n",
            "34\n",
            " \n",
            "Buzz\n",
            " \n",
            "Frizz\n",
            " \n",
            "37\n",
            " \n",
            "38\n",
            " \n",
            "Frizz\n",
            " \n",
            "Buzz\n",
            " \n",
            "41\n",
            " \n",
            "Frizz\n",
            " \n",
            "43\n",
            " \n",
            "44\n",
            " \n",
            "FrizzBuzz\n",
            " \n",
            "46\n",
            " \n",
            "47\n",
            " \n",
            "Frizz\n",
            " \n",
            "49\n",
            " \n",
            "Buzz\n",
            " \n",
            "Frizz\n",
            " \n",
            "52\n",
            " \n",
            "53\n",
            " \n",
            "Frizz\n",
            " \n",
            "Buzz\n",
            " \n",
            "56\n",
            " \n",
            "Frizz\n",
            " \n",
            "58\n",
            " \n",
            "59\n",
            " \n",
            "FrizzBuzz\n",
            " \n",
            "61\n",
            " \n",
            "62\n",
            " \n",
            "Frizz\n",
            " \n",
            "64\n",
            " \n",
            "Buzz\n",
            " \n",
            "Frizz\n",
            " \n",
            "67\n",
            " \n",
            "68\n",
            " \n",
            "Frizz\n",
            " \n",
            "Buzz\n",
            " \n",
            "71\n",
            " \n",
            "Frizz\n",
            " \n",
            "73\n",
            " \n",
            "74\n",
            " \n",
            "FrizzBuzz\n",
            " \n",
            "76\n",
            " \n",
            "77\n",
            " \n",
            "Frizz\n",
            " \n",
            "79\n",
            " \n",
            "Buzz\n",
            " \n",
            "Frizz\n",
            " \n",
            "82\n",
            " \n",
            "83\n",
            " \n",
            "Frizz\n",
            " \n",
            "Buzz\n",
            " \n",
            "86\n",
            " \n",
            "Frizz\n",
            " \n",
            "88\n",
            " \n",
            "89\n",
            " \n",
            "FrizzBuzz\n",
            " \n",
            "91\n",
            " \n",
            "92\n",
            " \n",
            "Frizz\n",
            " \n",
            "94\n",
            " \n",
            "Buzz\n",
            " \n",
            "Frizz\n",
            " \n",
            "97\n",
            " \n",
            "98\n",
            " \n",
            "Frizz\n",
            " \n",
            "Buzz\n",
            " \n",
            "101\n",
            " \n"
          ]
        }
      ],
      "source": [
        "a = 0\n",
        "while a <= 100:\n",
        "     a = a + 1\n",
        "     if a % 3 == 0 and a % 5 == 0:\n",
        "         print(\"FrizzBuzz\")\n",
        "         print(\" \")\n",
        "     else:\n",
        "      if a % 3 == 0:\n",
        "         print(\"Frizz\")\n",
        "         print(\" \")\n",
        "      else:\n",
        "       if a % 5 == 0:\n",
        "         print(\"Buzz\")\n",
        "         print(\" \")\n",
        "       else:\n",
        "        print(a)\n",
        "        print(\" \")\n",
        "\n",
        "\n",
        "\n",
        "\n",
        "\n",
        "\n",
        "\n",
        "\n",
        "\n"
      ]
    },
    {
      "cell_type": "code",
      "source": [
        "numero=int(input(\"ingrese un numero: \"))\n",
        "if numero %2==0:\n",
        "  print(\"numero es par\")\n",
        "else:\n",
        "   print(\"numero impar\")\n"
      ],
      "metadata": {
        "colab": {
          "base_uri": "https://localhost:8080/"
        },
        "id": "3D4rLx6M1U5W",
        "outputId": "c58dc200-7668-4323-e645-bd961a68e798"
      },
      "execution_count": null,
      "outputs": [
        {
          "output_type": "stream",
          "name": "stdout",
          "text": [
            "ingrese un numero: 3\n",
            "numero impar\n"
          ]
        }
      ]
    },
    {
      "cell_type": "code",
      "source": [
        "for num in range(5):\n",
        "  print(num)"
      ],
      "metadata": {
        "colab": {
          "base_uri": "https://localhost:8080/"
        },
        "id": "Em79WpGM4xwb",
        "outputId": "bea20c62-ad69-48ae-8d5d-0a2eb6a7a6cf"
      },
      "execution_count": null,
      "outputs": [
        {
          "output_type": "stream",
          "name": "stdout",
          "text": [
            "0\n",
            "1\n",
            "2\n",
            "3\n",
            "4\n"
          ]
        }
      ]
    },
    {
      "cell_type": "code",
      "source": [
        "d=6\n",
        "if d<0:\n",
        "\n",
        "\n"
      ],
      "metadata": {
        "colab": {
          "base_uri": "https://localhost:8080/",
          "height": 211
        },
        "id": "1x3rKpHZ5oS5",
        "outputId": "cf54a517-9a2c-4a0c-dc2b-ffa95d131dea"
      },
      "execution_count": null,
      "outputs": [
        {
          "output_type": "error",
          "ename": "KeyboardInterrupt",
          "evalue": "",
          "traceback": [
            "\u001b[0;31m---------------------------------------------------------------------------\u001b[0m",
            "\u001b[0;31mKeyboardInterrupt\u001b[0m                         Traceback (most recent call last)",
            "\u001b[0;32m<ipython-input-45-065365311dcc>\u001b[0m in \u001b[0;36m<cell line: 0>\u001b[0;34m()\u001b[0m\n\u001b[1;32m      1\u001b[0m \u001b[0md\u001b[0m\u001b[0;34m=\u001b[0m\u001b[0;36m0\u001b[0m\u001b[0;34m\u001b[0m\u001b[0;34m\u001b[0m\u001b[0m\n\u001b[0;32m----> 2\u001b[0;31m \u001b[0;32mwhile\u001b[0m \u001b[0md\u001b[0m\u001b[0;34m<\u001b[0m\u001b[0;36m3\u001b[0m\u001b[0;34m:\u001b[0m\u001b[0;34m\u001b[0m\u001b[0;34m\u001b[0m\u001b[0m\n\u001b[0m\u001b[1;32m      3\u001b[0m   \u001b[0md\u001b[0m\u001b[0;34m=\u001b[0m\u001b[0;34m+\u001b[0m\u001b[0;36m1\u001b[0m\u001b[0;34m\u001b[0m\u001b[0;34m\u001b[0m\u001b[0m\n\u001b[1;32m      4\u001b[0m \u001b[0;32melse\u001b[0m\u001b[0;34m:\u001b[0m\u001b[0;34m\u001b[0m\u001b[0;34m\u001b[0m\u001b[0m\n\u001b[1;32m      5\u001b[0m  \u001b[0;32mfor\u001b[0m \u001b[0mn\u001b[0m \u001b[0;32min\u001b[0m \u001b[0mrange\u001b[0m \u001b[0;34m(\u001b[0m\u001b[0md\u001b[0m\u001b[0;34m,\u001b[0m\u001b[0md\u001b[0m\u001b[0;34m+\u001b[0m\u001b[0;36m3\u001b[0m\u001b[0;34m)\u001b[0m\u001b[0;34m:\u001b[0m\u001b[0;34m\u001b[0m\u001b[0;34m\u001b[0m\u001b[0m\n",
            "\u001b[0;31mKeyboardInterrupt\u001b[0m: "
          ]
        }
      ]
    }
  ]
}